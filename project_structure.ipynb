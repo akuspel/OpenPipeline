{
 "cells": [
  {
   "cell_type": "markdown",
   "metadata": {},
   "source": [
    "Structure for Project Files\n",
    "\n",
    "- Created in the root folder of a project (root/project.json)\n",
    "- If one doesn't exist, you can create it in Project Overview\n",
    "- Project files are loaded, when opening a project in Project Overview"
   ]
  },
  {
   "cell_type": "markdown",
   "metadata": {},
   "source": [
    "Project File Structure\n",
    "\n",
    "A Project File is a json dictionary, which must contain a few specific keys to function\n",
    "These are:\n",
    " - name (name of the scene)\n",
    " - programs (dictionary of software associated with the project {key : path} )\n",
    " - scene_directory (directory where scenes contained)\n",
    " - scenes (dictionary containing all scenes for a project)\n",
    "\n",
    "The \"scenes\" dictionary doesn't need to contain any scenes\n",
    "Scenes are stored as a dictionary, and must contain the following key:\n",
    " - root (scene root information [directory (final dir location is directory/name), order, members])\n",
    "Any additional keys (nodes) must follow the following structure:\n",
    " - key [directory, type(file, link, input_dir, output_dir, dir) members, program]\n",
    "\n",
    "Creatig a project file should go as so:\n",
    " 1. creation (pressed create button in Project Files container) adds \"empty\" project file\n",
    " 2. editing (press on project file edit to enter project file edit window)\n",
    "\n",
    "Creating and editing scenes should go as so:\n",
    " 1. scene editor (press on scenes icon / button to enter scene editor)\n",
    " 2. add scene (press on plus to create new scene, where you'll enter scene root information and name)\n",
    " 3. pipeline editor (click on scene to enter pipeline editor)\n",
    " 4. add node (press on plus to add new nodes, enter editor to specify node attributes)\n",
    " 5. edit node (click on nodes to enter node attribute editor, edit node attributes)\n",
    "\n",
    " "
   ]
  },
  {
   "cell_type": "code",
   "execution_count": null,
   "metadata": {},
   "outputs": [],
   "source": [
    "// example of a project file\n",
    "{\n",
    "    \"programs\" : {\"blender\" : \"c:/ProgramFiles/BlenderFoundation/Blender/2.93/blender.exe\", \"opentoonz\" : \"c:/ProgramFiles/OpenToonz/opentoonz.exe\"},\n",
    "    \"scene_directory\" : \"scenes\",\n",
    "    \n",
    "    \"scenes\" : {\n",
    "\n",
    "        \"c1_scene_01\" : {\n",
    "            \"root\" : [\"chapter_1\", \"John, Mary\"],\n",
    "            \"blender_dir\" : [\"3D\", \"dir\", \"\", \"\"],\n",
    "            \"blender_file\" : [\"3D/file.blend\", \"file\", \"John\", \"blender\"],\n",
    "            \"opentoonz_dir\" : [\"2D\", \"dir\", \"\", \"\"],\n",
    "            \"project_sheets\" : [\"https://sheets.google.com/sheet123\", \"link\", \"\", \"\"]\n",
    "        }\n",
    "\n",
    "    }\n",
    "}"
   ]
  }
 ],
 "metadata": {
  "language_info": {
   "name": "python"
  },
  "orig_nbformat": 4
 },
 "nbformat": 4,
 "nbformat_minor": 2
}
